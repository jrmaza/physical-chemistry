{
  "nbformat": 4,
  "nbformat_minor": 0,
  "metadata": {
    "colab": {
      "provenance": [],
      "authorship_tag": "ABX9TyOik3Nu0MdVK/QwHcxFO/rI",
      "include_colab_link": true
    },
    "kernelspec": {
      "name": "python3",
      "display_name": "Python 3"
    },
    "language_info": {
      "name": "python"
    }
  },
  "cells": [
    {
      "cell_type": "markdown",
      "metadata": {
        "id": "view-in-github",
        "colab_type": "text"
      },
      "source": [
        "<a href=\"https://colab.research.google.com/github/jrmaza/physical-chemistry/blob/main/S2E01_answExercise1.ipynb\" target=\"_parent\"><img src=\"https://colab.research.google.com/assets/colab-badge.svg\" alt=\"Open In Colab\"/></a>"
      ]
    },
    {
      "cell_type": "markdown",
      "source": [
        "## **Respuesta Ejercicio 1**\n",
        "\n",
        "\n",
        "---\n",
        "\n",
        "\n",
        "\\begin{align}\n",
        "\\hat{H} = -\\frac{\\hbar}{2}\\sum_{j=1}^N{\\frac{1}{m_j}\\nabla_j^2} + \\frac{1}{8\\pi\\epsilon_0}\\sum_{j=1}^N\\sum_{i\\neq1}{\\frac{q_iq_j}{|r_i - r_j|}} \\\\\n",
        "= \\sum_{j=1}^N{\\left( -\\frac{\\hbar}{2m_j}\\nabla_j^2 + \\frac{1}{8\\pi\\epsilon_0}\\sum_{i\\neq j}{\\frac{q_iq_j}{|r_i - r_j|}} \\right)}\n",
        "\\end{align}\n",
        "\n",
        "\n",
        "---"
      ],
      "metadata": {
        "id": "aHJozJeyQCw1"
      }
    }
  ]
}