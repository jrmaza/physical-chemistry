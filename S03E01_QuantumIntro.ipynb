{
  "nbformat": 4,
  "nbformat_minor": 0,
  "metadata": {
    "colab": {
      "provenance": [],
      "authorship_tag": "ABX9TyMWWqZmQNZSOrNGROwKJjC/",
      "include_colab_link": true
    },
    "kernelspec": {
      "name": "python3",
      "display_name": "Python 3"
    },
    "language_info": {
      "name": "python"
    }
  },
  "cells": [
    {
      "cell_type": "markdown",
      "metadata": {
        "id": "view-in-github",
        "colab_type": "text"
      },
      "source": [
        "<a href=\"https://colab.research.google.com/github/jrmaza/physical-chemistry/blob/main/S03E01_QuantumIntro.ipynb\" target=\"_parent\"><img src=\"https://colab.research.google.com/assets/colab-badge.svg\" alt=\"Open In Colab\"/></a>"
      ]
    },
    {
      "cell_type": "markdown",
      "source": [
        "## **Espectro electromagnético de emisión**\n",
        "La energía electromagnética es transferida en forma de ondas, y abarca un amplio espectro que va desde longitudes de onda muy grandes (ondas de radio), hasta longitudes de onda muy pequeñas (rayos gama). El ojo humano sólo puede detectar una pequeña porción del espectro, denominado luz visible, que va en una longitud de onda de 390nm (7.7e14Hz) a 750nm (3.9e14Hz), recordar que $\\nu = \\frac{c}{\\lambda}$, donde $c$ es la velocidad de la luz.\n",
        "\n",
        "<img src=\"http://solar-center.stanford.edu/about/electromagneticspectrum.jpg\" alt=\"Espectro Electromagnético\" width=\"550\" height=\"400\"> \n",
        "\n",
        "\n",
        "---"
      ],
      "metadata": {
        "id": "sKIHHkx67H0o"
      }
    },
    {
      "cell_type": "markdown",
      "source": [
        "### ```ScyPi```: Ciencias Básicas en python\n",
        "SciPy es una librería científica de python que proporciona funciones de optimización, estadística y procesamiento de señales, entre otros. Para acceder a las constantes físicas fundamentales, invocamos el siguiente código:\n",
        "```python\n",
        "from scipy.constants import (constantes)\n",
        "```\n",
        "Una lista de las constantes físicas fundamentales puede ser encontrada aquí https://docs.scipy.org/doc/scipy/reference/constants.html"
      ],
      "metadata": {
        "id": "FjWAB2peLYTf"
      }
    },
    {
      "cell_type": "code",
      "source": [
        "#@title Espectro electromagnético visible\n",
        "import warnings\n",
        "warnings.filterwarnings('ignore')\n",
        "import numpy as np\n",
        "import matplotlib.pyplot as plt\n",
        "from scipy.constants import c, h, k\n",
        "\n",
        "lambda_visible = np.linspace(390e-9,750e-9,100)\n",
        "\n",
        "plt.style.use('seaborn-paper') # estilo del gráfico 'seaborn-paper', 'seaborn-darkgrid', 'seaborn-ticks', 'fivethirtyeight',  'seaborn-whitegrid','classic',  '_classic_test', 'fast',  'seaborn-talk', 'seaborn-dark-palette', 'seaborn-bright', 'seaborn-pastel', 'grayscale', 'seaborn-notebook', 'ggplot', 'seaborn-colorblind', 'seaborn-muted', 'seaborn', 'Solarize_Light2', 'seaborn-paper', 'bmh', 'tableau-colorblind10', 'seaborn-white', 'dark_background', 'seaborn-poster', 'seaborn-deep\n",
        "fig, ax = plt.subplots() #creamos el entorno del gráfico\n",
        "plt.xlim([1e-9, 1.7e-6]) # límites del eje X (frecuencia)\n",
        "ax.set_xlabel('Longitud de onda (nm)')\n",
        "#plt.ticklabel_format(axis='x', style='sci', scilimits=(0.3,0.4))\n",
        "\n",
        "colormap = plt.cm.gist_rainbow # invocamos el mapa de color estilo rainbow\n",
        "colors = [colormap(i) for i in np.linspace(0.0, 1.0, 100)] #asignamos in color por índice\n",
        "j = 0\n",
        "for valores in lambda_visible:\n",
        "  axvline(valores, lw = 3, color = colors[j], alpha = 0.15) \n",
        "  j += 1\n"
      ],
      "metadata": {
        "colab": {
          "base_uri": "https://localhost:8080/",
          "height": 415
        },
        "id": "2U0sZfLe-5Q4",
        "outputId": "05610720-99e8-48e2-f62a-455e76b8199d",
        "cellView": "form"
      },
      "execution_count": 208,
      "outputs": [
        {
          "output_type": "display_data",
          "data": {
            "text/plain": [
              "<Figure size 640x440 with 1 Axes>"
            ],
            "image/png": "[encoded data removed]"
          },
          "metadata": {}
        }
      ]
    },
    {
      "cell_type": "markdown",
      "source": [
        "---\n",
        "\n",
        "\n",
        "## Radiación del Cuerpo Negro\n",
        "La radiación térmica emitida por un cuerpo es función de la temperatura.\n",
        "\n",
        "<img src=\"https://upload.wikimedia.org/wikipedia/commons/thumb/5/5a/Example_incandescence_colors_%28temperature_range_550_-_1300_C%29.svg/800px-Example_incandescence_colors_%28temperature_range_550_-_1300_C%29.svg.png\" width=\"200\" height=\"600\" >\n",
        "\n",
        "<img src=\"https://www.e-education.psu.edu/meteo300/sites/www.e-education.psu.edu.meteo300/files/images/lesson6/Solar_spectrum_en.svg.png\" alt=\"Espectro Electromagnético solar\" width=\"550\" height=\"400\"> \n",
        "\n",
        "En 1879 (Stefan) y 1884 (Boltzman) se determinó que la radiación o energía radiante por unidad de área (poder emisivo) en función de la temperatura absoluta y la emisividad del material:\n",
        "\n",
        "\\begin{align}\n",
        "E = e\\sigma T^4\n",
        "\\end{align}\n",
        "\n",
        "Donde la constante Stefan–Boltzmann $\\sigma = 5.6704×10^{−8} W/m^2\\cdot K$\n",
        "\n",
        "Posteriormente, en 1894 Wien estableció que la radiación monocromática emitida por un cuerpo es función de de la longitud de onda y la temperatura absoluta:\n",
        "\n",
        "\\begin{align}\n",
        "E_{\\lambda} = \\frac{a}{\\lambda^5}f(\\lambda,T)\n",
        "\\end{align}\n",
        "\n",
        "En 1900, Rayleigh, aplicando el principio de [equipartición](https://es.wikipedia.org/wiki/Teorema_de_equipartici%C3%B3n) al campo electromagnético (asociación con $k_BT$), posteriormente Jeans corregió algunos inconvenientes con la expresión de Rayleigh, conocida como la ecuación de Rayleigh-Jeans para la radiación espectral, $B$:\n",
        "\n",
        "\n",
        "\n",
        "Recordando:\n",
        "\n",
        "\n",
        "\n"
      ],
      "metadata": {
        "id": "tIUrvqp4d4Fa"
      }
    },
    {
      "cell_type": "code",
      "source": [
        "#@title Radiación Espectral de Rayleigh-Jeans\n",
        "%%latex\n",
        "\\begin{aligned}\n",
        "B_{\\lambda,T} = \\frac{2ck_BT}{\\lambda^4}\n",
        "\\end{aligned}"
      ],
      "metadata": {
        "colab": {
          "base_uri": "https://localhost:8080/",
          "height": 57
        },
        "cellView": "form",
        "id": "1b2-tYfqqApP",
        "outputId": "d9d76381-a5b6-42f9-d459-e206f8181b30"
      },
      "execution_count": 245,
      "outputs": [
        {
          "output_type": "display_data",
          "data": {
            "text/plain": [
              "<IPython.core.display.Latex object>"
            ],
            "text/latex": "\\begin{aligned}\nB_{\\lambda,T} = \\frac{2ck_BT}{\\lambda^4}\n\\end{aligned}\n"
          },
          "metadata": {}
        }
      ]
    },
    {
      "cell_type": "code",
      "source": [
        "#@title Gráfico de Rayleigh-Jeans\n",
        "\n",
        "wavelength_nm = np.linspace(10,5000,100)\n",
        "wavelength_m = wavelength_nm*1e-9\n",
        "\n",
        "T = 5772 #K\n",
        "\n",
        "rj = 2*c*k*T/wavelength_m**4\n",
        "\n",
        "a = (2.0*h*c**2)\n",
        "b = (h*c)/(wavelength_m*k*T)\n",
        "planck = a/((wavelength_m**5)*((np.exp(b)-1)))\n",
        "\n",
        "fig, ax = plt.subplots()\n",
        "#plt.plot(wavelength_m,planck,'g-')\n",
        "ax.plot(wavelength_m,rj,'r-',label = 'Rayleigh-Jeans\\'s law, T=5772K (sun)')\n",
        "j = 0\n",
        "for valores in lambda_visible:\n",
        "  axvline(valores, lw = 3, color = colors[j], alpha = 0.15) \n",
        "  j += 1\n",
        "plt.xlabel('wavelength (nm)')\n",
        "plt.ylabel('Spectral radiance (W/m**2)')\n",
        "plt.ylim(1e8,2.6e13)\n",
        "plt.legend()\n",
        "plt.show()\n",
        "\n",
        "#plt.xlim([1e10, 1e15]) # límites del eje X (frecuencia)\n",
        "#ax.plot(nu, ry(nu,273), label = 'Rayleigh Jean\\'s law, T=273K')\n",
        "ax.plot(wavelength_m, rj, label = 'Rayleigh Jean\\'s law, T=5772K (sun)')\n",
        "#ax.plot(nu, ry(nu,2000), label = 'Rayleigh Jean\\'s law, T=2000K')\n",
        "#ax.plot(nu, ry(long_onda,5772), label = 'Rayleigh Jean\\'s law, T=5772K (Sun)')\n",
        "ax.legend()\n"
      ],
      "metadata": {
        "colab": {
          "base_uri": "https://localhost:8080/",
          "height": 441
        },
        "id": "1E15SAwlsx8M",
        "outputId": "af814d58-77c0-41db-9b47-40168d4e1eb6",
        "cellView": "form"
      },
      "execution_count": 256,
      "outputs": [
        {
          "output_type": "display_data",
          "data": {
            "text/plain": [
              "<Figure size 640x440 with 1 Axes>"
            ],
            "image/png": "[encoded data removed]"
          },
          "metadata": {}
        },
        {
          "output_type": "execute_result",
          "data": {
            "text/plain": [
              "<matplotlib.legend.Legend at 0x7faca0a53eb0>"
            ]
          },
          "metadata": {},
          "execution_count": 256
        }
      ]
    },
    {
      "cell_type": "code",
      "source": [
        "#@title Radiación Espectral de Planck\n",
        "%%latex\n",
        "\\begin{aligned}\n",
        "B_{\\lambda,T} = \\frac{2hc^2}{\\lambda^5}\\frac{1}{e^{\\frac{hc}{\\lambda k_B T}}-1}\n",
        "\\end{aligned}"
      ],
      "metadata": {
        "colab": {
          "base_uri": "https://localhost:8080/",
          "height": 66
        },
        "cellView": "form",
        "id": "sC8e-21uRjWS",
        "outputId": "d9d326c7-5853-487d-d51e-d38c732a0198"
      },
      "execution_count": 249,
      "outputs": [
        {
          "output_type": "display_data",
          "data": {
            "text/plain": [
              "<IPython.core.display.Latex object>"
            ],
            "text/latex": "\\begin{aligned}\nB_{\\lambda,T} = \\frac{2hc^2}{\\lambda^5}\\frac{1}{e^{\\frac{hc}{\\lambda k_B T}}-1}\n\\end{aligned}\n"
          },
          "metadata": {}
        }
      ]
    },
    {
      "cell_type": "code",
      "source": [
        "#@title Gráfico de Planck\n",
        "\n",
        "wavelength_nm = np.linspace(10,5000,100)\n",
        "wavelength_m = wavelength_nm*1e-9\n",
        "\n",
        "T = 5772 #K\n",
        "\n",
        "a = (2.0*h*c**2)\n",
        "b = (h*c)/(wavelength_m*k*T)\n",
        "planck = a/((wavelength_m**5)*((np.exp(b)-1)))\n",
        "\n",
        "fig, ax = plt.subplots()\n",
        "j = 0\n",
        "for valores in lambda_visible:\n",
        "  axvline(valores, lw = 3, color = colors[j], alpha = 0.15) \n",
        "  j += 1\n",
        "plt.plot(wavelength_m,planck,label = 'Planck\\'s law, T=5772K (sun)')\n",
        "#plt.plot(wavelength_m,rj,label = 'Rayleigh-Jeans\\'s law, T=5772K (sun)')\n",
        "plt.xlabel('wavelength (nm)')\n",
        "plt.ylabel('Spectral radiance (W/m**2)')\n",
        "plt.ylim(1e8,2.6e13)\n",
        "plt.legend()\n",
        "plt.show()\n",
        "\n",
        "ax.legend()"
      ],
      "metadata": {
        "colab": {
          "base_uri": "https://localhost:8080/",
          "height": 441
        },
        "cellView": "form",
        "id": "SaBOuIqPlnPz",
        "outputId": "9e24ac5c-0fc7-40a3-b282-90fd7c03e4c7"
      },
      "execution_count": 260,
      "outputs": [
        {
          "output_type": "display_data",
          "data": {
            "text/plain": [
              "<Figure size 640x440 with 1 Axes>"
            ],
            "image/png": "[encoded data removed]"
          },
          "metadata": {}
        },
        {
          "output_type": "execute_result",
          "data": {
            "text/plain": [
              "<matplotlib.legend.Legend at 0x7faca03e7a30>"
            ]
          },
          "metadata": {},
          "execution_count": 260
        }
      ]
    },
    {
      "cell_type": "markdown",
      "source": [
        "## Nacimiento de la teoría cuántica\n",
        "\n",
        "En 1900, [Max Planck](https://grahamfarmelo.com/max-planck-letter-hitler-discovered/) presentó una hipótesis que desafiaba a la física clásica: la energía no puede ser emitida/absorbida de manera continua, sino que de manera discreta, que obedecían a cantidades enteras múltiplos (estados energéticos). La emisión de radiación del cuerpo negro sólo es posible cuando hay un cambio de estos estados determinados. \n",
        "\n"
      ],
      "metadata": {
        "id": "O_NErmNmm_-F"
      }
    },
    {
      "cell_type": "code",
      "source": [
        "#@title Ecuación de Planck\n",
        "%%latex\n",
        "\\begin{aligned}\n",
        "E = n\\cdot h\\nu \\\\\n",
        "E_\\lambda = \\frac{2\\pi c^2}{\\lambda^e5}\\frac{1}{e^{\\frac{ch}{\\lambda kT}}-1} \n",
        "\\end{aligned}"
      ],
      "metadata": {
        "colab": {
          "base_uri": "https://localhost:8080/",
          "height": 89
        },
        "cellView": "form",
        "id": "44-D9A7TS8-K",
        "outputId": "f56f3be2-be5e-41c8-99a2-7be02bc3265b"
      },
      "execution_count": 5,
      "outputs": [
        {
          "output_type": "display_data",
          "data": {
            "text/plain": [
              "<IPython.core.display.Latex object>"
            ],
            "text/latex": "\\begin{aligned}\nE = n\\cdot h\\nu \\\\\nE_\\lambda = \\frac{2\\pi c^2}{\\lambda^e5}\\frac{1}{e^{\\frac{ch}{\\lambda kT}}-1} \n\\end{aligned}\n"
          },
          "metadata": {}
        }
      ]
    },
    {
      "cell_type": "markdown",
      "source": [
        "## Espectros atómicos\n",
        "Al mismo tiempo en que se discutía la radiación del cuerpo negro, un desarrollo similar se estaba llevando a cabo en el campo de los espectros de emisión atómicos.\n",
        "\n",
        "*   Se observó que cuando una descarga eléctrica pasa a través de un elemento en estado gaseoso hay emisión de luz\n",
        "<img src=\"https://chem.libretexts.org/@api/deki/files/77924/CK12_Screenshot_5-5-1.png\" alt=\"Espectro Electromagnético solar\" width=\"660\" height=\"150\"> \n",
        "*   Un análisis de la luz reveló una serie de líneas asociadas a unas longitudes de onda y características para cada elemento\n",
        "<img src=\"https://chem.libretexts.org/@api/deki/files/77927/CK12_Screenshot_5-5-2.png\" alt=\"Espectro Electromagnético solar\" width=\"500\" height=\"500\"> \n",
        "\n",
        "En 1885, [Johann Jakob Balmer](https://en.wikipedia.org/wiki/Johann_Jakob_Balmer) describió que para el átomo de hidrógeno estas líneas de emisión correspondían con una relación matemática:"
      ],
      "metadata": {
        "id": "nGmT7ME_oTmE"
      }
    },
    {
      "cell_type": "code",
      "source": [
        "#@title Fórmula de Balmer\n",
        "%%latex\n",
        "\\begin{aligned}\n",
        "\\lambda = \\frac{bn^2}{n^2 - 4} \\\\\n",
        "\\hat{\\nu} = \\frac{1}{\\lambda} = R_H (\\frac{1}{n_1^2} - \\frac{1}{n_2^2}) \\text{ siendo $n_1$ < $n_2$}\\\\\n",
        "\\text{Donde $R_H$ es la constante de Rydberg= $10973758.306m^{-1}$}\n",
        "\\end{aligned}"
      ],
      "metadata": {
        "colab": {
          "base_uri": "https://localhost:8080/",
          "height": 129
        },
        "cellView": "form",
        "id": "PPRVlp9brm1Q",
        "outputId": "82e2d8b7-bb53-4f95-d8d3-4c9b7c7e2585"
      },
      "execution_count": 27,
      "outputs": [
        {
          "output_type": "display_data",
          "data": {
            "text/plain": [
              "<IPython.core.display.Latex object>"
            ],
            "text/latex": "\\begin{aligned}\n\\lambda = \\frac{bn^2}{n^2 - 4} \\\\\n\\hat{\\nu} = \\frac{1}{\\lambda} = R_H (\\frac{1}{n_1^2} - \\frac{1}{n_2^2}) \\text{ siendo $n_1$ < $n_2$}\\\\\n\\text{Donde $R_H$ es la constante de Rydberg= $10973758.306m^{-1}$}\n\\end{aligned}\n"
          },
          "metadata": {}
        }
      ]
    },
    {
      "cell_type": "markdown",
      "source": [
        "## Espectro de emisión para el Hidrógeno\n",
        "\n",
        "<img src=\"https://upload.wikimedia.org/wikipedia/commons/2/21/Visible_spectrum_of_hydrogen.jpg\" alt=\"Espectro Electromagnético solar\" width=\"900\" height=\"100\"> \n",
        "\n",
        "\n",
        "|Transición de $n_2$ a $n_1$| \t$3\\rightarrow2$ |\t$4\\rightarrow2$ |\t$5\\rightarrow2$ |\t$6\\rightarrow2$ |\t$7\\rightarrow2$ |\t$8\\rightarrow2$ |\t$9\\rightarrow2$ |\t$ \\infty \\rightarrow 2$ |\n",
        "| -------------- | ---- | --- | --- | --- | --- | --- | --- | ----------- |\n",
        "|Nombre |\t$H-\\alpha$ |\t$H-\\beta$ |\t$H-γ$ |\t$H-σ$ |\t$H-ϵ$ |\t$H-ζ$ \t| $H-η$ | \t\n",
        "|Longitud de onda (nm) |\t656.3 |\t486.1 |\t434.1 |\t410.2 |\t397.0 |\t388.9 |\t383.5 |\t364.6 |\n",
        "|Color | \tRojo (red) |\tAzul-verde (blue-green) |\tVioleta (violet) |\tVioleta (violet) |\t(Ultravioleta) |\t(Ultravioleta) |\t(Ultravioleta) \t| (Ultravioleta) |\n"
      ],
      "metadata": {
        "id": "wX6bGw8Es6hW"
      }
    },
    {
      "cell_type": "code",
      "source": [
        "#@title Transición 3 a 2\n",
        "%%latex\n",
        "\\begin{aligned}\n",
        "\\frac{1}{\\lambda_{n_3 \\rightarrow n_2}} = R_H (\\frac{1}{2^2} - \\frac{1}{3^2})\n",
        "\\end{aligned}"
      ],
      "metadata": {
        "colab": {
          "base_uri": "https://localhost:8080/",
          "height": 60
        },
        "cellView": "form",
        "id": "VRxBcKT3w41F",
        "outputId": "ac09679e-829f-49a5-a08d-1c88846d9644"
      },
      "execution_count": 18,
      "outputs": [
        {
          "output_type": "display_data",
          "data": {
            "text/plain": [
              "<IPython.core.display.Latex object>"
            ],
            "text/latex": "\\begin{aligned}\n\\frac{1}{\\lambda_{n_3 \\rightarrow n_2}} = R_H (\\frac{1}{2^2} - \\frac{1}{3^2})\n\\end{aligned}\n"
          },
          "metadata": {}
        }
      ]
    },
    {
      "cell_type": "code",
      "source": [
        "def balmer(n1,n2):\n",
        "  ry=10973758.306 #m-1\n",
        "  wavelenght = (1 / (ry*(1/n1**2 - 1/n2**2)))*1e9\n",
        "  return wavelenght \n",
        "balmer(2,3)"
      ],
      "metadata": {
        "id": "AmxGNBTByAuq"
      },
      "execution_count": null,
      "outputs": []
    },
    {
      "cell_type": "markdown",
      "source": [
        "## El modelo atómico de Bohr\n",
        "\n",
        "* Los electrones de un átomo están restringidos a una órbita en particular (estado energético basal), la radiación se produce cuando el electrón ha migrado de órbita (estado energético exitado). Cuando esto se produce, la emsión es igual a $h\\nu = E_1 - E_2$"
      ],
      "metadata": {
        "id": "49RUg6bRzzIW"
      }
    },
    {
      "cell_type": "code",
      "source": [
        "#@title Radio atómico\n",
        "%%latex\n",
        "\\begin{aligned}\n",
        "r = \\frac{n^2h^2}{4\\pi^2mze^2}\n",
        "\\end{aligned}"
      ],
      "metadata": {
        "colab": {
          "base_uri": "https://localhost:8080/",
          "height": 59
        },
        "cellView": "form",
        "id": "BLIJpXpG1tLy",
        "outputId": "9f11f737-ba99-487d-cd8e-e86297feae4a"
      },
      "execution_count": 22,
      "outputs": [
        {
          "output_type": "display_data",
          "data": {
            "text/plain": [
              "<IPython.core.display.Latex object>"
            ],
            "text/latex": "\\begin{aligned}\nr = \\frac{n^2h^2}{4\\pi^2mze^2}\n\\end{aligned}\n"
          },
          "metadata": {}
        }
      ]
    },
    {
      "cell_type": "code",
      "source": [
        "#@title Energía del electrón\n",
        "%%latex\n",
        "\\begin{aligned}\n",
        "E_n = -\\frac{2\\pi^2me^4z^2}{n^2h^2} \n",
        "\\end{aligned}"
      ],
      "metadata": {
        "colab": {
          "base_uri": "https://localhost:8080/",
          "height": 59
        },
        "cellView": "form",
        "id": "1OsBKgWQ2Fn1",
        "outputId": "eba1d395-9274-464b-e566-543aee738088"
      },
      "execution_count": 24,
      "outputs": [
        {
          "output_type": "display_data",
          "data": {
            "text/plain": [
              "<IPython.core.display.Latex object>"
            ],
            "text/latex": "\\begin{aligned}\nE_n = -\\frac{2\\pi^2me^4z^2}{n^2h^2} \n\\end{aligned}\n"
          },
          "metadata": {}
        }
      ]
    },
    {
      "cell_type": "markdown",
      "source": [
        "✅ **Ejercicio** Demostrar que la constante de Rydberg es igual a $\\frac{2\\pi^2me^4z^2}{ch^3}$ para el átomo de hidrógeno"
      ],
      "metadata": {
        "id": "HR1gWMO52zv3"
      }
    },
    {
      "cell_type": "markdown",
      "source": [
        "\n",
        "\n",
        "---\n",
        "\n",
        "# La ecuación de onda\n",
        "\n",
        "La naturaleza ondulatoria de los electrones implica que su comportamiento es descrito por una ecuación de onda y una función de onda que los representa.\n",
        "\n",
        "Considere el movimiento de una cuerda sostenida en los dos extremos a $x=0$ y $x=a$, es posible tener un estado en el cual todos los puntos de la cuerda se muevan y que el desplazamiento varíe en función del tiempo, si el desplazamiento ocurre en la dirección $y$, la función se puede representar matemáticamente:"
      ],
      "metadata": {
        "id": "m8SWUbdV34Q8"
      }
    },
    {
      "cell_type": "code",
      "source": [
        "#@title Separación de variables\n",
        "%%latex\n",
        "\\begin{aligned}\n",
        "y(x,t) = f(x)\\Phi(t)\n",
        "\\end{aligned}"
      ],
      "metadata": {
        "colab": {
          "base_uri": "https://localhost:8080/",
          "height": 42
        },
        "cellView": "form",
        "id": "09Z6LEJk5gq0",
        "outputId": "bb9a4a7f-d51b-40a5-8f08-df198b1cef1f"
      },
      "execution_count": 33,
      "outputs": [
        {
          "output_type": "display_data",
          "data": {
            "text/plain": [
              "<IPython.core.display.Latex object>"
            ],
            "text/latex": "\\begin{aligned}\ny(x,t) = f(x)\\Phi(t)\n\\end{aligned}\n"
          },
          "metadata": {}
        }
      ]
    },
    {
      "cell_type": "code",
      "source": [
        "#@title La ecuación de la onda tiene una forma diferencial general\n",
        "%%latex\n",
        "\\begin{aligned}\n",
        "\\frac{d^2y}{dx^2} = \\frac{1}{c^2}\\frac{d^2y}{dt^2}\n",
        "\\end{aligned}"
      ],
      "metadata": {
        "colab": {
          "base_uri": "https://localhost:8080/",
          "height": 59
        },
        "cellView": "form",
        "id": "_XKBSYXr5-Ed",
        "outputId": "19ff07bb-75f8-4032-faa1-4625d373ec17"
      },
      "execution_count": 30,
      "outputs": [
        {
          "output_type": "display_data",
          "data": {
            "text/plain": [
              "<IPython.core.display.Latex object>"
            ],
            "text/latex": "\\begin{aligned}\n\\frac{d^2y}{dx^2} = \\frac{1}{c^2}\\frac{d^2y}{dt^2}\n\\end{aligned}\n"
          },
          "metadata": {}
        }
      ]
    },
    {
      "cell_type": "code",
      "source": [
        "#@title Reemplazando 30 en 20, obtenemos\n",
        "%%latex\n",
        "\\begin{aligned}\n",
        "\\frac{c^2}{f(x)}\\frac{d^2f(x)}{dx^2} = \\frac{1}{\\Phi(t)}\\frac{d^2\\Phi(t)}{dt^2} = -\\omega^2\n",
        "\\end{aligned}"
      ],
      "metadata": {
        "colab": {
          "base_uri": "https://localhost:8080/",
          "height": 63
        },
        "cellView": "form",
        "id": "70pHQlSp6lVc",
        "outputId": "310c98f2-0da3-4345-c50d-82c142397d0b"
      },
      "execution_count": 32,
      "outputs": [
        {
          "output_type": "display_data",
          "data": {
            "text/plain": [
              "<IPython.core.display.Latex object>"
            ],
            "text/latex": "\\begin{aligned}\n\\frac{c^2}{f(x)}\\frac{d^2f(x)}{dx^2} = \\frac{1}{\\Phi(t)}\\frac{d^2\\Phi(t)}{dt^2} = -\\omega^2\n\\end{aligned}\n"
          },
          "metadata": {}
        }
      ]
    },
    {
      "cell_type": "markdown",
      "source": [
        "Debido a la separación de variables, la ecuación anterior tiene dos soluciones en forma de ecuaciones diferenciales ordinarias"
      ],
      "metadata": {
        "id": "XpRbvNR27Krc"
      }
    },
    {
      "cell_type": "code",
      "source": [
        "#@title Ecuación diferencial ordinaria 1\n",
        "%%latex\n",
        "\\begin{aligned}\n",
        "\\frac{d^2\\Phi(t)}{dt^2} + \\omega\\Phi(t) = 0\n",
        "\\end{aligned}"
      ],
      "metadata": {
        "colab": {
          "base_uri": "https://localhost:8080/",
          "height": 59
        },
        "cellView": "form",
        "id": "d-sRXw0V7Xa2",
        "outputId": "a840a93a-596c-4af2-e9cf-389452ed888d"
      },
      "execution_count": 34,
      "outputs": [
        {
          "output_type": "display_data",
          "data": {
            "text/plain": [
              "<IPython.core.display.Latex object>"
            ],
            "text/latex": "\\begin{aligned}\n\\frac{d^2\\Phi(t)}{dt^2} + \\omega\\Phi(t) = 0\n\\end{aligned}\n"
          },
          "metadata": {}
        }
      ]
    },
    {
      "cell_type": "code",
      "source": [
        "#@title Ecuación diferencial ordinaria 2\n",
        "%%latex\n",
        "\\begin{aligned}\n",
        "\\frac{d^2f(x)}{dx^2} + \\omega^2\\frac{f(x)}{c^2} = 0\n",
        "\\end{aligned}"
      ],
      "metadata": {
        "colab": {
          "base_uri": "https://localhost:8080/",
          "height": 59
        },
        "cellView": "form",
        "id": "u30fJyT77uwq",
        "outputId": "f3e11f1d-7bcb-47cc-971e-8fccc08f8263"
      },
      "execution_count": 40,
      "outputs": [
        {
          "output_type": "display_data",
          "data": {
            "text/plain": [
              "<IPython.core.display.Latex object>"
            ],
            "text/latex": "\\begin{aligned}\n\\frac{d^2f(x)}{dx^2} + \\omega^2\\frac{f(x)}{c^2} = 0\n\\end{aligned}\n"
          },
          "metadata": {}
        }
      ]
    },
    {
      "cell_type": "markdown",
      "source": [
        "La EDO1 tiene solución:"
      ],
      "metadata": {
        "id": "NC7CSx_d8EtG"
      }
    },
    {
      "cell_type": "code",
      "source": [
        "#@title Solución EDO1\n",
        "%%latex\n",
        "\\begin{aligned}\n",
        "\\Phi(t) = A\\sin(\\omega t) + B\\cos(\\omega t) \n",
        "\\end{aligned}"
      ],
      "metadata": {
        "colab": {
          "base_uri": "https://localhost:8080/",
          "height": 42
        },
        "cellView": "form",
        "id": "EmnYzL9p8Hoq",
        "outputId": "ba94312b-f1bd-4022-9f5b-9992f6718667"
      },
      "execution_count": 45,
      "outputs": [
        {
          "output_type": "display_data",
          "data": {
            "text/plain": [
              "<IPython.core.display.Latex object>"
            ],
            "text/latex": "\\begin{aligned}\n\\Phi(t) = A\\sin(\\omega t) + B\\cos(\\omega t) \n\\end{aligned}\n"
          },
          "metadata": {}
        }
      ]
    },
    {
      "cell_type": "markdown",
      "source": [
        "La frecuencia circular, $\\omega$, está relacionada con la frecuencia ordinaria $\\nu$\n",
        "\n",
        "$\\omega = 2\\pi \\nu$\n",
        "\n",
        "Por lo que la ED2 puede ser escrita:"
      ],
      "metadata": {
        "id": "Ad-UqDvw8pLh"
      }
    },
    {
      "cell_type": "code",
      "source": [
        "#@title Forma $\\nu$ de la EDO2\n",
        "%%latex\n",
        "\\begin{aligned}\n",
        "\\frac{d^2f(x)}{dx^2} + \\frac{2^2\\pi^2\\nu^2}{c^2}f(x) = 0\n",
        "\\end{aligned}"
      ],
      "metadata": {
        "colab": {
          "base_uri": "https://localhost:8080/",
          "height": 59
        },
        "cellView": "form",
        "id": "yu1mRffW9A2P",
        "outputId": "07b28e2f-8e9d-4299-e79f-b0d2f8d8ea15"
      },
      "execution_count": 47,
      "outputs": [
        {
          "output_type": "display_data",
          "data": {
            "text/plain": [
              "<IPython.core.display.Latex object>"
            ],
            "text/latex": "\\begin{aligned}\n\\frac{d^2f(x)}{dx^2} + \\frac{2^2\\pi^2\\nu^2}{c^2}f(x) = 0\n\\end{aligned}\n"
          },
          "metadata": {}
        }
      ]
    },
    {
      "cell_type": "markdown",
      "source": [
        "ajustando $\\lambda = c/\\nu$"
      ],
      "metadata": {
        "id": "ImGTzmKE9gWb"
      }
    },
    {
      "cell_type": "code",
      "source": [
        "#@title Forma $\\lambda$ de la EDO2\n",
        "%%latex\n",
        "\\begin{aligned}\n",
        "\\frac{d^2f(x)}{dx^2} + \\frac{2^2\\pi^2}{\\lambda^2}f(x) = 0\n",
        "\\end{aligned}"
      ],
      "metadata": {
        "colab": {
          "base_uri": "https://localhost:8080/",
          "height": 59
        },
        "cellView": "form",
        "id": "yiPXRLMo9rJ8",
        "outputId": "e0113003-7428-4d2e-c487-ecaa2497e975"
      },
      "execution_count": 49,
      "outputs": [
        {
          "output_type": "display_data",
          "data": {
            "text/plain": [
              "<IPython.core.display.Latex object>"
            ],
            "text/latex": "\\begin{aligned}\n\\frac{d^2f(x)}{dx^2} + \\frac{2^2\\pi^2}{\\lambda^2}f(x) = 0\n\\end{aligned}\n"
          },
          "metadata": {}
        }
      ]
    },
    {
      "cell_type": "code",
      "source": [
        "#@title Solución de la EDO2\n",
        "%%latex\n",
        "\\begin{aligned}\n",
        "f(x) = A_1e^{+\\frac{i2\\pi x}{\\lambda}} + A_2e^{-\\frac{i2\\pi x}{\\lambda}} \\\\ \n",
        "\\text{lo que es igual a} \\\\\n",
        "f(x) = C\\sin(\\frac{2\\pi}{\\lambda}x) + D\\cos(\\frac{2\\pi}{\\lambda}x) \n",
        "\\end{aligned}"
      ],
      "metadata": {
        "colab": {
          "base_uri": "https://localhost:8080/",
          "height": 110
        },
        "cellView": "form",
        "id": "U_cG-sgb-Z5y",
        "outputId": "297950d3-e75b-4851-e3d4-7eacf93ec282"
      },
      "execution_count": 53,
      "outputs": [
        {
          "output_type": "display_data",
          "data": {
            "text/plain": [
              "<IPython.core.display.Latex object>"
            ],
            "text/latex": "\\begin{aligned}\nf(x) = A_1e^{+\\frac{i2\\pi x}{\\lambda}} + A_2e^{-\\frac{i2\\pi x}{\\lambda}} \\\\ \n\\text{lo que es igual a} \\\\\nf(x) = C\\sin(\\frac{2\\pi}{\\lambda}x) + D\\cos(\\frac{2\\pi}{\\lambda}x) \n\\end{aligned}\n"
          },
          "metadata": {}
        }
      ]
    },
    {
      "cell_type": "markdown",
      "source": [
        "# La ecuación de Schrodinger\n",
        "\n",
        "La ecuación de Schrödinger tiene dos 'formas', una en la que aparece explícitamente el tiempo, y así describe cómo la función de onda de una partícula evolucionará en el tiempo. En general, la función de onda se comporta como una onda, por lo que la ecuación a menudo se denomina ecuación de onoda de Schrodinger dependiente del tiempo.\n",
        "La otra es la ecuación en la que se ha \"eliminado\" la dependencia del tiempo y, por lo tanto, se conoce como la ecuación de Schrödinger independiente del tiempo y describe, entre otras cosas, cuáles son las energías permitidas de la partícula."
      ],
      "metadata": {
        "id": "piPDkfxE_N5c"
      }
    },
    {
      "cell_type": "code",
      "source": [
        "#@title Schrodinger dependiente del tiempo\n",
        "%%latex\n",
        "\\begin{aligned}\n",
        "-\\frac{\\hbar^2}{2m}\\frac{\\partial^2\\psi}{\\partial x^2} + V(x)\\Psi = i\\hbar\\frac{\\partial\\psi}{\\partial t} \n",
        "\\end{aligned}"
      ],
      "metadata": {
        "colab": {
          "base_uri": "https://localhost:8080/",
          "height": 59
        },
        "cellView": "form",
        "id": "hmPp4RZmCH8V",
        "outputId": "425a9608-4c7b-4d30-e742-0749975efb61"
      },
      "execution_count": 7,
      "outputs": [
        {
          "output_type": "display_data",
          "data": {
            "text/plain": [
              "<IPython.core.display.Latex object>"
            ],
            "text/latex": "\\begin{aligned}\n-\\frac{\\hbar^2}{2m}\\frac{\\partial^2\\psi}{\\partial x^2} + V(x)\\Psi = i\\hbar\\frac{\\partial\\psi}{\\partial t} \n\\end{aligned}\n"
          },
          "metadata": {}
        }
      ]
    },
    {
      "cell_type": "code",
      "source": [
        "#@title Schrodinger independiente del tiempo\n",
        "%%latex\n",
        "\\begin{aligned}\n",
        "-\\frac{\\hbar^2}{2m}\\frac{d^2\\psi}{d x^2} + V(x)\\psi = E\\psi \n",
        "\\end{aligned}"
      ],
      "metadata": {
        "colab": {
          "base_uri": "https://localhost:8080/",
          "height": 59
        },
        "cellView": "form",
        "id": "051iKRs_Djr9",
        "outputId": "2c85c8a3-fece-4082-bfe2-4a18385e9b1a"
      },
      "execution_count": 8,
      "outputs": [
        {
          "output_type": "display_data",
          "data": {
            "text/plain": [
              "<IPython.core.display.Latex object>"
            ],
            "text/latex": "\\begin{aligned}\n-\\frac{\\hbar^2}{2m}\\frac{d^2\\psi}{d x^2} + V(x)\\psi = E\\psi \n\\end{aligned}\n"
          },
          "metadata": {}
        }
      ]
    },
    {
      "cell_type": "markdown",
      "source": [
        "# La partícula en una caja de potencial infinito\n",
        "\n",
        "El modelo de la partícula confinada en una caja de potencial infinito, es la aplicación más simple y trivial de la ecuación de Schrodinger. Se ilustra una partícula de masa $m$, que se mueve en una dimensión.\n",
        "\n",
        "<img src=\"https://chem.libretexts.org/@api/deki/files/125867/CNX_UPhysics_40_04_box.jpg\" alt=\"Espectro Electromagnético solar\" width=\"400\" height=\"300\"> \n",
        "\n",
        "En las regiones donde el potencial es cero, es decir entre $x=0$ y $x=L$ la ecuación se reduce a:"
      ],
      "metadata": {
        "id": "BAj4u6O_2CEo"
      }
    },
    {
      "cell_type": "code",
      "source": [
        "#@title Schrodinger $0\\leq \\psi\\leq L$\n",
        "%%latex\n",
        "\\begin{aligned}\n",
        "-\\frac{\\hbar^2}{2m}\\frac{d^2\\psi}{d x^2} = E\\psi \\\\\n",
        "\\frac{d^2\\psi}{d x^2} = -\\frac{2mE}{\\hbar^2}\\psi \\\\\n",
        "\\frac{d^2\\psi}{d x^2} + \\frac{2mE}{\\hbar^2}\\psi = 0 \\\\\n",
        "\\text{Tomando como } k^2 = \\frac{2mE}{\\hbar^2} \\\\\n",
        "\\frac{d^2\\psi}{d x^2} + k^2\\psi = 0\n",
        "\\end{aligned}"
      ],
      "metadata": {
        "colab": {
          "base_uri": "https://localhost:8080/",
          "height": 225
        },
        "cellView": "form",
        "id": "ATQKoCXo3BVe",
        "outputId": "9c539262-ab6d-4dcb-cac2-1b16862cc58d"
      },
      "execution_count": 14,
      "outputs": [
        {
          "output_type": "display_data",
          "data": {
            "text/plain": [
              "<IPython.core.display.Latex object>"
            ],
            "text/latex": "\\begin{aligned}\n-\\frac{\\hbar^2}{2m}\\frac{d^2\\psi}{d x^2} = E\\psi \\\\\n\\frac{d^2\\psi}{d x^2} = -\\frac{2mE}{\\hbar^2}\\psi \\\\\n\\frac{d^2\\psi}{d x^2} + \\frac{2mE}{\\hbar^2}\\psi = 0 \\\\\n\\text{Tomando como } k^2 = \\frac{2mE}{\\hbar^2} \\\\\n\\frac{d^2\\psi}{d x^2} + k^2\\psi = 0\n\\end{aligned}\n"
          },
          "metadata": {}
        }
      ]
    },
    {
      "cell_type": "markdown",
      "source": [
        "✅ **Ejercicio**: Utiliza ```sympy``` para resolver la ecuación diferencial ordinaria anterior  "
      ],
      "metadata": {
        "id": "i5TMXsjp54cz"
      }
    },
    {
      "cell_type": "markdown",
      "source": [
        "## Gráfico de Funciones trigonométricas "
      ],
      "metadata": {
        "id": "4U6_rPbs6i-1"
      }
    },
    {
      "cell_type": "code",
      "source": [
        "#@title Sen y Cos\n",
        "import numpy as np\n",
        "import matplotlib.pyplot as plt\n",
        "\n",
        "x = np.arange(0,4*np.pi-1,0.1)   # start,stop,step\n",
        "sen = np.sin(x)\n",
        "cos = np.cos(x)\n",
        "\n",
        "plt.axhline(y = 0.0, color = 'r', linestyle = '-.')\n",
        "plt.plot(x,sen)\n",
        "plt.plot(x,cos)\n",
        "plt.xlabel('x values from 0 to 4pi')  # string must be enclosed with quotes '  '\n",
        "plt.ylabel('sin(x) and cos(x)')\n",
        "plt.title('Gráfico de sen(x) y cos(x)  de 0 a 4$\\pi$')\n",
        "plt.legend(['sin(x)', 'cos(x)'])      # legend entries as seperate strings in a list\n",
        "plt.show()"
      ],
      "metadata": {
        "colab": {
          "base_uri": "https://localhost:8080/",
          "height": 475
        },
        "cellView": "form",
        "id": "K0qUGiVE7P22",
        "outputId": "607fa97b-d083-423a-9713-6fe95c532b70"
      },
      "execution_count": 27,
      "outputs": [
        {
          "output_type": "display_data",
          "data": {
            "text/plain": [
              "<Figure size 640x480 with 1 Axes>"
            ],
            "image/png": "[encoded data removed]"
          },
          "metadata": {}
        }
      ]
    },
    {
      "cell_type": "markdown",
      "source": [
        "## Solución a la partícula en una caja\n",
        "La solución general tiene la forma"
      ],
      "metadata": {
        "id": "K1f8JODg8AYQ"
      }
    },
    {
      "cell_type": "code",
      "source": [
        "#@title Solución EDO Schrodinger\n",
        "%%latex\n",
        "\\begin{aligned}\n",
        "\\psi(x) = A\\sin(k x) + B\\cos(k x) \n",
        "\\end{aligned}"
      ],
      "metadata": {
        "colab": {
          "base_uri": "https://localhost:8080/",
          "height": 42
        },
        "cellView": "form",
        "id": "vaXIXYF__Jxs",
        "outputId": "53734d77-2d5c-4dd8-b9d1-afa59658a9b0"
      },
      "execution_count": 30,
      "outputs": [
        {
          "output_type": "display_data",
          "data": {
            "text/plain": [
              "<IPython.core.display.Latex object>"
            ],
            "text/latex": "\\begin{aligned}\n\\psi(x) = A\\sin(k x) + B\\cos(k x) \n\\end{aligned}\n"
          },
          "metadata": {}
        }
      ]
    },
    {
      "cell_type": "code",
      "source": [
        "#@title Condición de frontera $\\psi(0) = 0$ \n",
        "%%latex\n",
        "\\begin{aligned}\n",
        "\\psi(0) = A\\sin(k 0) + B\\cos(k 0) = 0\\\\ \n",
        "\\psi(0) = A\\sin(0) + B\\cos(0) = 0\\\\\n",
        "\\psi(0) = 0 + B = 0 \\\\\n",
        "\\text{por lo que $B = 0$}\n",
        "\\end{aligned}"
      ],
      "metadata": {
        "colab": {
          "base_uri": "https://localhost:8080/",
          "height": 119
        },
        "cellView": "form",
        "id": "qn-fECDL_lUs",
        "outputId": "9908ac61-175a-47ad-e045-9cc3abce436f"
      },
      "execution_count": 35,
      "outputs": [
        {
          "output_type": "display_data",
          "data": {
            "text/plain": [
              "<IPython.core.display.Latex object>"
            ],
            "text/latex": "\\begin{aligned}\n\\psi(0) = A\\sin(k 0) + B\\cos(k 0) = 0\\\\ \n\\psi(0) = A\\sin(0) + B\\cos(0) = 0\\\\\n\\psi(0) = 0 + B = 0 \\\\\n\\text{por lo que $B = 0$}\n\\end{aligned}\n"
          },
          "metadata": {}
        }
      ]
    },
    {
      "cell_type": "code",
      "source": [
        "#@title Condición de frontera $\\psi(L) = 0$ \n",
        "%%latex\n",
        "\\begin{aligned}\n",
        "\\psi(L) = A\\sin(k L)  = 0 \\\\\n",
        "\\text{$kL$ debe ser múltiplo entero de $\\pi$} \\\\\n",
        "k L = n\\pi \\text{elevando al cuadrado}\\\\\n",
        "k^2L^2 = n^2\\pi^2\n",
        "\\end{aligned}"
      ],
      "metadata": {
        "colab": {
          "base_uri": "https://localhost:8080/",
          "height": 119
        },
        "cellView": "form",
        "id": "6Kr25oy6ATSA",
        "outputId": "1a7c7ebd-3994-425c-8d2c-ce7d8dcadec6"
      },
      "execution_count": 39,
      "outputs": [
        {
          "output_type": "display_data",
          "data": {
            "text/plain": [
              "<IPython.core.display.Latex object>"
            ],
            "text/latex": "\\begin{aligned}\n\\psi(L) = A\\sin(k L)  = 0 \\\\\n\\text{$kL$ debe ser múltiplo entero de $\\pi$} \\\\\nk L = n\\pi \\text{elevando al cuadrado}\\\\\nk^2L^2 = n^2\\pi^2\n\\end{aligned}\n"
          },
          "metadata": {}
        }
      ]
    },
    {
      "cell_type": "code",
      "source": [
        "#@title Energía en función de $n$\n",
        "%%latex\n",
        "\\begin{aligned}\n",
        "\\frac{2mE}{\\hbar^2}L^2 = n^2\\pi^2 \\\\\n",
        "E_n = \\frac{n^2\\pi^2\\hbar^2}{2mL^2} \\\\\n",
        "E_n = \\frac{n^2h^2}{8mL^2}\n",
        "\\end{aligned}"
      ],
      "metadata": {
        "colab": {
          "base_uri": "https://localhost:8080/",
          "height": 141
        },
        "cellView": "form",
        "id": "iPTqnWCfBEcG",
        "outputId": "88b8ed96-a1d9-4e2d-a31f-098b0b400e0f"
      },
      "execution_count": 43,
      "outputs": [
        {
          "output_type": "display_data",
          "data": {
            "text/plain": [
              "<IPython.core.display.Latex object>"
            ],
            "text/latex": "\\begin{aligned}\n\\frac{2mE}{\\hbar^2}L^2 = n^2\\pi^2 \\\\\nE_n = \\frac{n^2\\pi^2\\hbar^2}{2mL^2} \\\\\nE_n = \\frac{n^2h^2}{8mL^2}\n\\end{aligned}\n"
          },
          "metadata": {}
        }
      ]
    },
    {
      "cell_type": "code",
      "source": [
        "#@title La Función de Onda, $\\psi(x)$\n",
        "%%latex\n",
        "\\begin{aligned}\n",
        "\\psi_n(x) = A\\sin(\\frac{n\\pi x}{L})\n",
        "\\end{aligned}"
      ],
      "metadata": {
        "colab": {
          "base_uri": "https://localhost:8080/",
          "height": 52
        },
        "cellView": "form",
        "id": "Kxmp_Es1CEkz",
        "outputId": "44ca414a-9574-411c-ead4-c8657f90952a"
      },
      "execution_count": 44,
      "outputs": [
        {
          "output_type": "display_data",
          "data": {
            "text/plain": [
              "<IPython.core.display.Latex object>"
            ],
            "text/latex": "\\begin{aligned}\n\\psi_n(x) = A\\sin(\\frac{n\\pi x}{L})\n\\end{aligned}\n"
          },
          "metadata": {}
        }
      ]
    },
    {
      "cell_type": "code",
      "source": [
        "#@title Densidad de probabilidad\n",
        "%%latex\n",
        "\\begin{aligned}\n",
        "\\int_0^a\\psi*(x)\\psi(x)dx = 1 = \\langle \\psi | \\psi \\rangle \\\\ \n",
        "\\int_0^L A\\sin(\\frac{n\\pi x}{L}) A\\sin(\\frac{n\\pi x}{L})dx = 1 \\\\\n",
        "A^2\\int_0^L \\sin^2(\\frac{n\\pi x}{L}) = A^2\\frac{L}{n\\pi}\\int_0^{n\\pi} \\sin^2(\\theta)d\\theta = 1 \\\\\n",
        "A^2 \\frac{L}{2} = 1 \\\\\n",
        "A = \\sqrt{\\frac{2}{L}}\n",
        "\\end{aligned}"
      ],
      "metadata": {
        "colab": {
          "base_uri": "https://localhost:8080/",
          "height": 243
        },
        "cellView": "form",
        "id": "G4S3Ec_9_jAp",
        "outputId": "53e3b349-d61a-4929-8ca4-836a2dffd8fa"
      },
      "execution_count": 66,
      "outputs": [
        {
          "output_type": "display_data",
          "data": {
            "text/plain": [
              "<IPython.core.display.Latex object>"
            ],
            "text/latex": "\\begin{aligned}\n\\int_0^a\\psi*(x)\\psi(x)dx = 1 = \\langle \\psi | \\psi \\rangle \\\\ \n\\int_0^L A\\sin(\\frac{n\\pi x}{L}) A\\sin(\\frac{n\\pi x}{L})dx = 1 \\\\\nA^2\\int_0^L \\sin^2(\\frac{n\\pi x}{L}) = A^2\\frac{L}{n\\pi}\\int_0^{n\\pi} \\sin^2(\\theta)d\\theta = 1 \\\\\nA^2 \\frac{L}{2} = 1 \\\\\nA = \\sqrt{\\frac{2}{L}}\n\\end{aligned}\n"
          },
          "metadata": {}
        }
      ]
    }
  ]
}