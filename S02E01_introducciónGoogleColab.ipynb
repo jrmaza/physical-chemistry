{
  "nbformat": 4,
  "nbformat_minor": 0,
  "metadata": {
    "colab": {
      "provenance": [],
      "toc_visible": true,
      "authorship_tag": "ABX9TyPi6N/W9fc4C2TLAisyHWTO",
      "include_colab_link": true
    },
    "kernelspec": {
      "name": "python3",
      "display_name": "Python 3"
    },
    "language_info": {
      "name": "python"
    }
  },
  "cells": [
    {
      "cell_type": "markdown",
      "metadata": {
        "id": "view-in-github",
        "colab_type": "text"
      },
      "source": [
        "<a href=\"https://colab.research.google.com/github/jrmaza/physical-chemistry/blob/main/S02E01_introducci%C3%B3nGoogleColab.ipynb\" target=\"_parent\"><img src=\"https://colab.research.google.com/assets/colab-badge.svg\" alt=\"Open In Colab\"/></a>"
      ]
    },
    {
      "cell_type": "markdown",
      "source": [
        "# **Google Colaboratory: colab**\n",
        "\n",
        "Es una herramienta de programación funcional en cualquier navegador web, que permite combinar código ejecutable en ```python``` y texto formateado, siguiendo los estándares [Markdown](https://www.markdownguide.org/), HTML, $\\LaTeX$, entre otros, todo en un documento almacenado en Google Drive, lo que facilita la colaboración y computación en la nube.\n",
        "\n",
        "# **GitHub** \n",
        "Portal para almacenar y compartir código o aplicaciones de desarrolladores\n"
      ],
      "metadata": {
        "id": "JfHdvb_nqjge"
      }
    },
    {
      "cell_type": "markdown",
      "source": [
        "<table class=\"tfo-notebook-buttons\" align=\"left\">\n",
        "  <td>\n",
        "    <a target=\"_blank\" href=\"https://drive.google.com/drive/u/0/my-drive\"><img src=\"https://www.tensorflow.org/images/colab_logo_32px.png\" />Run in Google Colab</a>\n",
        "  </td>\n",
        "  <td>\n",
        "    <a target=\"_blank\" href=\"https://github.com/jrmaza/physical-chemistry\"><img src=\"https://www.tensorflow.org/images/GitHub-Mark-32px.png\" />View source on GitHub</a>\n",
        "  </td>\n",
        "</table>"
      ],
      "metadata": {
        "id": "PExa7aaZw4mc"
      }
    },
    {
      "cell_type": "markdown",
      "source": [
        "# Celdas de Texto\n",
        "En este tipo de celdas, se puede escribir texto formateado bajo los estándares Markdown, HTML o LaTex."
      ],
      "metadata": {
        "id": "vsi6IWE_ueBj"
      }
    },
    {
      "cell_type": "markdown",
      "source": [
        "## Formato de texto\n",
        "* Para crear texto formateado resaltado en **negrillas** basta agregar dos ```**``` al inicio y al final del texto que se desea resaltar.\n",
        "* Para crear texto en formato *cursivo*, se debe agregar un ```*``` al inicio y al final del texto que se desea resaltar."
      ],
      "metadata": {
        "id": "jST48Z_uvyp3"
      }
    },
    {
      "cell_type": "markdown",
      "source": [
        "## Insertar imágenes\n",
        "Se pueden insertar imágenes de la internet en celdas de texto usando el estándar Markdown, indicado de la siguiente forma:\n",
        "\n",
        "* ```![nombre de la imagen](url de la imagen)```\n",
        "\n",
        "También se puede insertar una imágen, usando el estándar HTML:\n",
        "\n",
        "* ```<img src=\"URL de la imagen\" />```"
      ],
      "metadata": {
        "id": "ZuE5N7NJv3IX"
      }
    },
    {
      "cell_type": "markdown",
      "source": [
        "## Ecuaciones y matrices en $\\LaTeX$\n",
        "$\\LaTeX$ es un estándar para la escritura documentos científicos, su sintáxis se indica utilizando signos ```$``` al inicio y al final de la expresión:\n",
        "\n",
        "```$F(x) &= \\int^a_b \\frac{1}{3}x^3$```, producirá la expresión: $f(x) = \\int^a_b \\frac{1}{3}x^3$\n",
        "\n",
        "Adicionalmente, la expresión puede ser escrita dentro del entorno ```align``` o ```equation``` \n",
        "\n",
        "```LaTex\n",
        "\\begin{align}\n",
        "f(x) = \\int^a_b \\frac{1}{3}x^3 \\\\\n",
        "\\hbar = \\frac{h}{2\\pi}\n",
        "\\end{align}\n",
        "```\n",
        "Esto producirá la expresión centrada y con mayor definición:\n",
        "\n",
        "\\begin{align}\n",
        "f(x) = \\int^a_b \\frac{1}{3}x^3 \\\\\n",
        "\\hbar = \\frac{h}{2\\pi}\n",
        "\\end{align}\n",
        "\n",
        "De igual forma, se puede escribir notación matricial con el entorno ```matrix``` para matrices planas, ```pmatrix``` para paréntesis redondos (), ```bmatrix``` para paréntesis cuadrados [], ```Bmatrix``` para paréntesis cursivos {} o ```vmatrix``` para notación de determinante  ||.\n",
        "```LaTex\n",
        "\\begin{pmatrix}\n",
        "1 & 2 & 3\\\\\n",
        "a & b & c\n",
        "\\end{pmatrix}\n",
        "```\n",
        "Producirá:\n",
        "\\begin{pmatrix}\n",
        "1 & 2 & 3\\\\\n",
        "a & b & c\n",
        "\\end{pmatrix}\n",
        "\n",
        "\n",
        "📌**Ejercicio 1: en una celda de texto y escribir en LaTex la siguiente expresión:**\n",
        "\n",
        "![](https://wikimedia.org/api/rest_v1/media/math/render/svg/29ad26451abe12bca208b3d8be82ed2e10ff8c25)\n"
      ],
      "metadata": {
        "id": "NO6TYOMXxxuq"
      }
    },
    {
      "cell_type": "markdown",
      "source": [
        "Ver la respuesta [aquí](https://github.com/jrmaza/physical-chemistry/blob/main/S2E01_answExercise1.ipynb)\n"
      ],
      "metadata": {
        "id": "Ss7MLHUO4_Mr"
      }
    },
    {
      "cell_type": "markdown",
      "source": [
        "# Celdas de Código\n",
        "Son aquellas destinadas a ejecutar código en lenguaje ```python```, se destacan por un color diferente a las celdas de Texto, se pueden crear con el botón ```+ Código``` o con el comando ```Ctrl + M  + B```, para ejecutar la sentencia o comandos escritos en una celda de código, debemos hacer clic en el botón al inicio de la celda (que tiene un triángulo encerrado por un círculo) o con la secuencia de comandos ```Ctrl + Enter```\n",
        "\n",
        "📌**Práctica: En la siguiente celda de código ejecutar el comando**\n",
        "\n",
        "```!python --version```"
      ],
      "metadata": {
        "id": "j08cJbVKrrD_"
      }
    },
    {
      "cell_type": "code",
      "source": [],
      "metadata": {
        "id": "r3hXKCVhMGBp"
      },
      "execution_count": null,
      "outputs": []
    },
    {
      "cell_type": "markdown",
      "source": [
        "## **Librería Numérica de python: ```numpy```**\n",
        "Una de las librerías más versátiles de python en los últimos años es ```numpy```, permite implementar funciones de algebra lineal, transformada de Fourier o matrices, entre otras funciones. Se carga con el siguiente comando:\n",
        "\n",
        "```python\n",
        "import numpy as np\n",
        "```\n",
        "Uno de los objetos de mayor uso son los arreglos. La función ```np.linspace``` \n",
        "genera un arreglo NumPy formado por n números equiespaciados entre dos dados. Su sintaxis es:\n",
        "\n",
        "```python\n",
        "arreglo = np.linspace(valor-inicial, valor-final, número de valores)\n",
        "```"
      ],
      "metadata": {
        "id": "Mn5g71PAMGX_"
      }
    },
    {
      "cell_type": "markdown",
      "source": [
        "## Matplotlib\n",
        "Es una librería especializada en el gráfico 2D, produce figuras con características de publicaciones científicas en una gran variedad de formatos. La sintaxis es:\n",
        "```python\n",
        "import matplotlib.pyplot as plt\n",
        "```"
      ],
      "metadata": {
        "id": "FMn8bO4VNwee"
      }
    },
    {
      "cell_type": "code",
      "source": [
        "import matplotlib.pyplot as plt\n",
        "x = [2,4,6,7,9,13,19,26,29,31,36,40,48,51,57,67,69,71,78,88]\n",
        "y = [54,72,43,2,8,98,109,5,35,28,48,83,94,84,73,11,464,75,200,54]\n",
        "fig, ax = plt.subplots()\n",
        "#ax.plot(x,y)\n",
        "#ax.scatter(x,y)\n",
        "#ax.fill_between(x,y)\n",
        "#ax.bar(x,y)\n",
        "#ax.barh(x,y)\n",
        "plt.show()"
      ],
      "metadata": {
        "id": "1FYdAaD4OZnI"
      },
      "execution_count": null,
      "outputs": []
    },
    {
      "cell_type": "markdown",
      "source": [
        "## sympy para ecuaciones diferenciales\n",
        "SymPy es una biblioteca Python para matemática simbólica, permite realizar álgebra computacional manteniendo, a la vez, el código lo más simple posible para hacerlo extensible de manera fácil e integral. Su sintaxis es:\n",
        "```python\n",
        "from sympy import *\n",
        "init_printing\n",
        "```"
      ],
      "metadata": {
        "id": "q9eNh3oDQH3a"
      }
    },
    {
      "cell_type": "code",
      "source": [
        "from sympy import *\n",
        "init_printing"
      ],
      "metadata": {
        "colab": {
          "base_uri": "https://localhost:8080/"
        },
        "id": "V030Iz-OtKq1",
        "outputId": "79d2a984-e723-4835-cbc3-78aee52b2611"
      },
      "execution_count": null,
      "outputs": [
        {
          "output_type": "execute_result",
          "data": {
            "text/plain": [
              "<function sympy.interactive.printing.init_printing(pretty_print=True, order=None, use_unicode=None, use_latex=None, wrap_line=None, num_columns=None, no_global=False, ip=None, euler=False, forecolor=None, backcolor='Transparent', fontsize='10pt', latex_mode='plain', print_builtin=True, str_printer=None, pretty_printer=None, latex_printer=None, scale=1.0, **settings)>"
            ]
          },
          "metadata": {},
          "execution_count": 3
        }
      ]
    },
    {
      "cell_type": "code",
      "source": [
        "y = Function('y')\n",
        "t = symbols('t', real=True)\n",
        "ω = symbols('omega', real=True, positive=True)"
      ],
      "metadata": {
        "id": "ysUl9BQE9wLP"
      },
      "execution_count": null,
      "outputs": []
    },
    {
      "cell_type": "code",
      "source": [
        "eq = Eq(y(t).diff(t, t) + ω**2 * y(t), 0)\n",
        "eq"
      ],
      "metadata": {
        "colab": {
          "base_uri": "https://localhost:8080/",
          "height": 54
        },
        "id": "4x4FL3Qd96fV",
        "outputId": "622b3bb2-1735-4a3f-8cc9-d439005d833e"
      },
      "execution_count": null,
      "outputs": [
        {
          "output_type": "execute_result",
          "data": {
            "text/plain": [
              "Eq(omega**2*y(t) + Derivative(y(t), (t, 2)), 0)"
            ],
            "text/latex": "$\\displaystyle \\omega^{2} y{\\left(t \\right)} + \\frac{d^{2}}{d t^{2}} y{\\left(t \\right)} = 0$"
          },
          "metadata": {},
          "execution_count": 11
        }
      ]
    },
    {
      "cell_type": "code",
      "source": [
        "sol = dsolve(eq, y(t)).simplify()\n",
        "sol"
      ],
      "metadata": {
        "colab": {
          "base_uri": "https://localhost:8080/",
          "height": 38
        },
        "id": "RGaRl3UC-ISV",
        "outputId": "2dbe2a7e-c7d1-41b6-97b7-ee555c78cac9"
      },
      "execution_count": null,
      "outputs": [
        {
          "output_type": "execute_result",
          "data": {
            "text/plain": [
              "Eq(y(t), C1*sin(omega*t) + C2*cos(omega*t))"
            ],
            "text/latex": "$\\displaystyle y{\\left(t \\right)} = C_{1} \\sin{\\left(\\omega t \\right)} + C_{2} \\cos{\\left(\\omega t \\right)}$"
          },
          "metadata": {},
          "execution_count": 12
        }
      ]
    },
    {
      "cell_type": "markdown",
      "source": [
        "📌**Ejercicio 2: utiliza sympy para resolver la siguiente ecuación diferencial**\n",
        "\\begin{align}\n",
        "\\frac{d^2}{dt^2}x(t) + 2\\beta\\frac{d}{dt}x(t) + \\omega^2x(t) = 0\n",
        "\\end{align}"
      ],
      "metadata": {
        "id": "cAxYStomRa8Z"
      }
    }
  ]
}